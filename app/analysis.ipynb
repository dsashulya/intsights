{
 "cells": [
  {
   "cell_type": "code",
   "execution_count": 1,
   "metadata": {},
   "outputs": [],
   "source": [
    "from app import db\n",
    "from models import Company, Internship, Department, Review\n",
    "import pandas as pd\n",
    "import sqlalchemy"
   ]
  },
  {
   "cell_type": "code",
   "execution_count": 23,
   "metadata": {},
   "outputs": [],
   "source": [
    "models = {Company: \"companies\",\n",
    "         Internship: \"internships\",\n",
    "         Department: \"departments\",\n",
    "         Review: \"reviews\"}"
   ]
  },
  {
   "cell_type": "code",
   "execution_count": 24,
   "metadata": {},
   "outputs": [],
   "source": [
    "dfs = {}\n",
    "for key, value in models.items():\n",
    "    rows = []\n",
    "    for i in key.query.all():\n",
    "        row = {}\n",
    "        for k, v in i.__dict__.items():\n",
    "            if type(v) != sqlalchemy.orm.state.InstanceState:\n",
    "                row[k] = v\n",
    "        rows.append(row)\n",
    "    dfs[f'{value}'] = rows"
   ]
  },
  {
   "cell_type": "code",
   "execution_count": 25,
   "metadata": {},
   "outputs": [],
   "source": [
    "companies = pd.DataFrame(dfs['companies'])\n",
    "departments = pd.DataFrame(dfs['departments'])\n",
    "internships = pd.DataFrame(dfs['internships'])\n",
    "reviews = pd.DataFrame(dfs['reviews'])"
   ]
  },
  {
   "cell_type": "code",
   "execution_count": 26,
   "metadata": {},
   "outputs": [],
   "source": [
    "companies.rename(columns={'id': 'company_id'}, inplace=True)\n",
    "departments.rename(columns={'id': 'department_id'}, inplace=True)\n",
    "internships.rename(columns={'id': 'internship_id'}, inplace=True)"
   ]
  },
  {
   "cell_type": "code",
   "execution_count": 28,
   "metadata": {},
   "outputs": [],
   "source": [
    "reviews = pd.merge(reviews, \n",
    "                   departments.loc[:, \n",
    "                        ['company_id', 'internship_id', \n",
    "                         'department_id', 'title']], \n",
    "                   how='left', on='department_id')"
   ]
  },
  {
   "cell_type": "code",
   "execution_count": 29,
   "metadata": {},
   "outputs": [],
   "source": [
    "reviews = pd.merge(reviews, internships.loc[:,\n",
    "                                ['internship_id', 'title']],\n",
    "                  how='left', on='internship_id')"
   ]
  },
  {
   "cell_type": "code",
   "execution_count": 30,
   "metadata": {},
   "outputs": [],
   "source": [
    "reviews = pd.merge(reviews, companies.loc[:,\n",
    "                                ['company_id', 'name']],\n",
    "                  how='left', on='company_id')"
   ]
  },
  {
   "cell_type": "code",
   "execution_count": 31,
   "metadata": {},
   "outputs": [],
   "source": [
    "reviews.rename(columns={'title_x': 'deparment',\n",
    "                       'title_y': 'internship',\n",
    "                       'name': 'company'}, inplace=True)"
   ]
  },
  {
   "cell_type": "code",
   "execution_count": 39,
   "metadata": {},
   "outputs": [
    {
     "data": {
      "text/plain": [
       "{184: 1,\n",
       " 185: 1,\n",
       " 138: 2,\n",
       " 188: 2,\n",
       " 175: 1,\n",
       " 132: 2,\n",
       " 9: 1,\n",
       " 191: 1,\n",
       " 193: 1,\n",
       " 194: 1,\n",
       " 28: 1,\n",
       " 63: 1,\n",
       " 15: 1,\n",
       " 160: 1,\n",
       " 2: 1,\n",
       " 45: 1,\n",
       " 172: 1,\n",
       " 133: 1,\n",
       " 48: 1}"
      ]
     },
     "execution_count": 39,
     "metadata": {},
     "output_type": "execute_result"
    }
   ],
   "source": [
    "t = {}\n",
    "for i in reviews.loc[:, 'department_id'].values:\n",
    "    if i not in t:\n",
    "        t[i] = 1\n",
    "    else:\n",
    "        t[i] += 1 \n",
    "t"
   ]
  },
  {
   "cell_type": "code",
   "execution_count": 41,
   "metadata": {},
   "outputs": [
    {
     "data": {
      "text/html": [
       "<div>\n",
       "<style scoped>\n",
       "    .dataframe tbody tr th:only-of-type {\n",
       "        vertical-align: middle;\n",
       "    }\n",
       "\n",
       "    .dataframe tbody tr th {\n",
       "        vertical-align: top;\n",
       "    }\n",
       "\n",
       "    .dataframe thead th {\n",
       "        text-align: right;\n",
       "    }\n",
       "</style>\n",
       "<table border=\"1\" class=\"dataframe\">\n",
       "  <thead>\n",
       "    <tr style=\"text-align: right;\">\n",
       "      <th></th>\n",
       "      <th>cons</th>\n",
       "      <th>contract</th>\n",
       "      <th>date_posted</th>\n",
       "      <th>department_id</th>\n",
       "      <th>id</th>\n",
       "      <th>mentorshipRating</th>\n",
       "      <th>month_end</th>\n",
       "      <th>month_start</th>\n",
       "      <th>paid</th>\n",
       "      <th>pros</th>\n",
       "      <th>...</th>\n",
       "      <th>usefulnessRating</th>\n",
       "      <th>workContinued</th>\n",
       "      <th>workType</th>\n",
       "      <th>year_end</th>\n",
       "      <th>year_start</th>\n",
       "      <th>company_id</th>\n",
       "      <th>internship_id</th>\n",
       "      <th>deparment</th>\n",
       "      <th>internship</th>\n",
       "      <th>company</th>\n",
       "    </tr>\n",
       "  </thead>\n",
       "  <tbody>\n",
       "    <tr>\n",
       "      <th>2</th>\n",
       "      <td>Отношение к стажерам как к расходному материалу</td>\n",
       "      <td>1</td>\n",
       "      <td>2019-05-23 19:34:44.024781</td>\n",
       "      <td>138</td>\n",
       "      <td>10</td>\n",
       "      <td>3</td>\n",
       "      <td>март</td>\n",
       "      <td>октябрь</td>\n",
       "      <td>1</td>\n",
       "      <td>Легко отпроситься на контрольную/защиту курсов...</td>\n",
       "      <td>...</td>\n",
       "      <td>4</td>\n",
       "      <td>0</td>\n",
       "      <td>1</td>\n",
       "      <td>2018</td>\n",
       "      <td>2017</td>\n",
       "      <td>24</td>\n",
       "      <td>29</td>\n",
       "      <td>Аудит</td>\n",
       "      <td>Стажировка</td>\n",
       "      <td>PwC</td>\n",
       "    </tr>\n",
       "    <tr>\n",
       "      <th>17</th>\n",
       "      <td></td>\n",
       "      <td>1</td>\n",
       "      <td>2019-06-10 11:00:39.743091</td>\n",
       "      <td>138</td>\n",
       "      <td>25</td>\n",
       "      <td>5</td>\n",
       "      <td>июнь</td>\n",
       "      <td>февраль</td>\n",
       "      <td>0</td>\n",
       "      <td></td>\n",
       "      <td>...</td>\n",
       "      <td>5</td>\n",
       "      <td>0</td>\n",
       "      <td>1</td>\n",
       "      <td>2018</td>\n",
       "      <td>2018</td>\n",
       "      <td>24</td>\n",
       "      <td>29</td>\n",
       "      <td>Аудит</td>\n",
       "      <td>Стажировка</td>\n",
       "      <td>PwC</td>\n",
       "    </tr>\n",
       "  </tbody>\n",
       "</table>\n",
       "<p>2 rows × 25 columns</p>\n",
       "</div>"
      ],
      "text/plain": [
       "                                                cons  contract  \\\n",
       "2   Отношение к стажерам как к расходному материалу          1   \n",
       "17                                                           1   \n",
       "\n",
       "                  date_posted  department_id  id  mentorshipRating month_end  \\\n",
       "2  2019-05-23 19:34:44.024781            138  10                 3      март   \n",
       "17 2019-06-10 11:00:39.743091            138  25                 5      июнь   \n",
       "\n",
       "   month_start  paid                                               pros  \\\n",
       "2      октябрь     1  Легко отпроситься на контрольную/защиту курсов...   \n",
       "17     февраль     0                                                      \n",
       "\n",
       "     ...     usefulnessRating  workContinued  workType  year_end  year_start  \\\n",
       "2    ...                    4              0         1      2018        2017   \n",
       "17   ...                    5              0         1      2018        2018   \n",
       "\n",
       "    company_id  internship_id  deparment  internship  company  \n",
       "2           24             29      Аудит  Стажировка      PwC  \n",
       "17          24             29      Аудит  Стажировка      PwC  \n",
       "\n",
       "[2 rows x 25 columns]"
      ]
     },
     "execution_count": 41,
     "metadata": {},
     "output_type": "execute_result"
    }
   ],
   "source": [
    "reviews[reviews.department_id == 138]"
   ]
  },
  {
   "cell_type": "code",
   "execution_count": 36,
   "metadata": {},
   "outputs": [
    {
     "data": {
      "text/plain": [
       "(44, 3)"
      ]
     },
     "execution_count": 36,
     "metadata": {},
     "output_type": "execute_result"
    }
   ],
   "source": [
    "internships.shape"
   ]
  },
  {
   "cell_type": "code",
   "execution_count": 37,
   "metadata": {},
   "outputs": [
    {
     "data": {
      "text/plain": [
       "(195, 9)"
      ]
     },
     "execution_count": 37,
     "metadata": {},
     "output_type": "execute_result"
    }
   ],
   "source": [
    "departments.shape"
   ]
  },
  {
   "cell_type": "code",
   "execution_count": null,
   "metadata": {},
   "outputs": [],
   "source": []
  }
 ],
 "metadata": {
  "kernelspec": {
   "display_name": "Python 3",
   "language": "python",
   "name": "python3"
  },
  "language_info": {
   "codemirror_mode": {
    "name": "ipython",
    "version": 3
   },
   "file_extension": ".py",
   "mimetype": "text/x-python",
   "name": "python",
   "nbconvert_exporter": "python",
   "pygments_lexer": "ipython3",
   "version": "3.7.1"
  }
 },
 "nbformat": 4,
 "nbformat_minor": 2
}
